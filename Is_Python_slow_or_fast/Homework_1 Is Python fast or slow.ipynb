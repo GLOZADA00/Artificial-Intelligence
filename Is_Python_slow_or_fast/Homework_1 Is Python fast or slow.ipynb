{
 "cells": [
  {
   "cell_type": "markdown",
   "metadata": {},
   "source": [
    "# Is Python fast or slow?\n",
    "*  Department of Electrical and Computer Engineering\n",
    "* ICOM5015 - Artificial Intelligence\n",
    "* Project Name: Is Python Fast or Slow? \n",
    "* GROUP N \n",
    "    - Derek M. Texeira Ortiz - Undergraduate Student - ICOM \n",
    "    - Bryan Parra Irizarry - Undergraduate Student - ICOM\n",
    "    - Gabriel A. Lozada Torres - Undergraduate Student - ICOM\n",
    "* Prof. J. Fernando Vega Riveros\n",
    "* 2/28/2024"
   ]
  },
  {
   "cell_type": "markdown",
   "metadata": {},
   "source": [
    "## Table of Contents"
   ]
  },
  {
   "cell_type": "markdown",
   "metadata": {},
   "source": [
    "- Propósito\n",
    "- Hipótesis\n",
    "- Conceptos\n",
    "- Metodos y Herramientas\n",
    "- Informacion\n",
    "- Conclusion\n",
    "- Referencias\n",
    "- Codigo\n",
    "    - Librerias\n",
    "    - Python Implementation\n",
    "        - Data Generator\n",
    "        - Array Constructor\n",
    "        - Array Product\n",
    "        - Test Cases\n",
    "            - [Array Size < 10]\n",
    "            - 10 < Array Size < 100\n",
    "            - 100 < Array Size\n",
    "            - Extreme Test Case\n",
    "        - Plots\n",
    "    - NumPy Implementation\n",
    "        - Data Generator\n",
    "        - Array Constructor\n",
    "        - Array Product\n",
    "        - Test Cases\n",
    "            - Array Size < 10\n",
    "            - 10 < Array Size < 100\n",
    "            - 100 < Array Size\n",
    "            - Extreme Test Case\n",
    "        - Plots"
   ]
  },
  {
   "cell_type": "markdown",
   "metadata": {},
   "source": [
    "## Propósito"
   ]
  },
  {
   "cell_type": "markdown",
   "metadata": {},
   "source": [
    "- El propósito de este experimento es demostrar la importancia de utilizar bibliotecas de Python, específicamente NumPy y si capacidad de reducir el tiempo de procesamiento para operaciones numéricas y de álgebra lineal [1]. Python contiene algunas estructuras de datos de alto nivel, como listas, pero no pueden proporcionar cálculos numéricos de alto rendimiento [2]. Los dos casos que se compararán son:\n",
    "\n",
    "- Implementación manual en Python:\n",
    "\n",
    "   -  i. Escribir código en Python utilizando iteración para realizar el producto de arrays 1-D y 2-D.\n",
    "    - ii. Cronometrar la ejecución del código para varios casos, desde matrices pequeñas con dimensionalidades inferiores a 10 hasta matrices con dimensionalidades en el rango de varias centenas.\n",
    "    - iii. Probar varias combinaciones de productos de matrices.\n",
    "\n",
    "-  Utilización de NumPy:\n",
    "    - i. Importar NumPy y usar sus operaciones para realizar el producto de las mismas matrices utilizadas en el caso anterior.\n",
    "    - ii. Cronometrar la ejecución.\n",
    "\n",
    "- Para este experimento, se compararán los resultados obtenidos en términos de tiempo de procesamiento y se explicará la razón de las diferencias observadas. Se utilizarán tablas y gráficos para facilitar la comparación. Se analizará \n",
    "cómo crece el tiempo de procesamiento con las dimensionalidades de las matrices y cómo varía el tiempo entre vectores (matrices 1D) y matrices (matrices 2D) sin NumPy frente a NumPy.u"
   ]
  },
  {
   "cell_type": "markdown",
   "metadata": {},
   "source": [
    "## Hipótesis"
   ]
  },
  {
   "cell_type": "markdown",
   "metadata": {},
   "source": [
    "- Si la libreria de Numpy utiliza menos memoria y menos espacio de almacenamiento, entonces debe ayudar rticamente al producto de estas matrices, reduciendo su tiempo de procesamiento. Si la libreria de Numpy utiliza menos memoria y espacio de almacenamiento, entonces debe ayudar reduciendo el tiempo de procesamiento al producto de matrices. "
   ]
  },
  {
   "cell_type": "markdown",
   "metadata": {},
   "source": [
    "## Conceptos"
   ]
  },
  {
   "cell_type": "markdown",
   "metadata": {},
   "source": [
    "- **Dimensionalidad de las matrices**\n",
    "- **Eficiencia Computacional**\n",
    "- **NumPy**\n",
    "- **Medición del Tiempo de Ejecucion**"
   ]
  },
  {
   "cell_type": "markdown",
   "metadata": {},
   "source": [
    "### Métodos y Herramientas"
   ]
  },
  {
   "cell_type": "markdown",
   "metadata": {},
   "source": [
    "- **Metodos**\n",
    "    - Implementación Manual en Python\n",
    "    - Utilización de NumPy\n",
    "    - Iteración\n",
    "- **Herramientas**\n",
    "    - Python\n",
    "    - NumPy\n",
    "    - Jupyter Notebook\n",
    "    - Matplotlib\n",
    "    - Time\n",
    "    - Visual Studio Code"
   ]
  },
  {
   "cell_type": "markdown",
   "metadata": {},
   "source": [
    "### Información"
   ]
  },
  {
   "cell_type": "markdown",
   "metadata": {},
   "source": [
    "<img src=\"images/SinNumPy.png\" style= \"width: 500px;\">\n",
    "<img src=\"images/ConNumPy.png\" style = \"width: 500px;\">"
   ]
  },
  {
   "cell_type": "markdown",
   "metadata": {},
   "source": [
    "- Podemos observar que en la grafica de solamente Python, el tiempo de procesamiento aumenta de forma constante cuando trabajamos con una cantidad de data pequeña. Sin embargo, al comenzar a acercarnos con un array de tamaño 100, el tiempo de procesamiento aumenta de forma lineal. En el caso de NumPy, el tiempo de procesamiento aumenta de la misma forma. Sin embargo, se puede observar que el tiempo de procesamiento es distinto. Cuando se esta trabajando con una cantidad pequeña de data el tiempo de procesamiento no cambia por mucho, pero al aumentar esta cantidad se puede observar qur NumPy puede hacer las mismas operaciones en menos tiempo. En la gráfica de Python, el rango de tiempo varia entre los 0 y 40 segundos. Mientras que en la gráfica de NumPy el rango es de 0 a 2.5 segundos. Esto se debe a que NumPy utiliza operaciones vectorizadas, lo que significa que las operaciones se realizan en paralelo, lo que reduce el tiempo de procesamiento. Al utilizar operaciones vectorizadas, esto significa que las operaciones se realizan en paralelo, lo que reduce el tiempo de procesamiento. Además, NumPy utiliza menos memoria y espacio de almacenamiento, lo que también reduce el tiempo de procesamiento."
   ]
  },
  {
   "cell_type": "markdown",
   "metadata": {},
   "source": [
    "### Conclusion"
   ]
  },
  {
   "cell_type": "markdown",
   "metadata": {},
   "source": [
    "- Aunque las gráficas obtenidas comparten un mismo comportamiento, se puede observar que NumPy completaba las operaciones a mayor velocidad que las librerias de Python a medida que aumenta la cantidad de datos en los arreglos. Por tal razón, podemos concluir que la hipotesis planteada para nuestro experimento fue aceptada."
   ]
  },
  {
   "cell_type": "markdown",
   "metadata": {},
   "source": [
    "### Leccion Aprendida"
   ]
  },
  {
   "cell_type": "markdown",
   "metadata": {},
   "source": [
    "- Aprendimos que ante grandes cantidades de data, Python no es muy eficiente ya que el tiempo de procesamiento aumenta de forma lineal. Sin embargo, al utilizar NumPy, el tiempo de procesamiento disminuye de forma significativa. Tambien podemos decir que NumPy es una libreria muy util ya que nos puede ayuda con el procesamiento de grandes cantidades de data y nos puede ahorrar mucho el tiempo de espera. Tenemos que tener encuenta que es importante escoger una herramienta adecuada para realizar las tareas especificas."
   ]
  },
  {
   "cell_type": "markdown",
   "metadata": {},
   "source": [
    "### Créditos y Referencias"
   ]
  },
  {
   "cell_type": "markdown",
   "metadata": {},
   "source": [
    "- **Creditos** \n",
    "    - D. Gray, “Jupyter Notebook Tutorial for Beginners with Python,” www.youtube.com, Jan. 18, 2018. https://www.youtube.com/watch?v=2WL-XTl2QYI (accesado Feb. 27, 2024).\n",
    "    - Python Software Foundation, “Welcome to Python.org,” Python.org, 2019. https://www.python.org/doc/ (accesado Feb. 21, 2024).\n",
    "    - NumPy Developers, “NumPy user guide — NumPy v1.26 Manual,” numpy.org, Sep. 16, 2023. https://numpy.org/doc/1.26/user/index.html#user (accesado Feb. 22, 2024).\n",
    "\n",
    "- **Referencias**\n",
    "    - [1]“NumPy : La Biblioteca De Python Más Utilizada En Data Science,” Formación En Ciencia De Datos | DataScientest.com, Jan. 18, 2023. https://datascientest.com/es/numpy-la-biblioteca-python#:~:text=Los%20arrays%20de%20NumPy%20tienen (accesado Feb. 22, 2024).\n",
    "    - [2]A. Nagpal and G. Gabrani, “Python for Data Analytics, Scientific and Technical Applications,” idp.uprm.edu, Feb. 04, 2019. https://ieeexplore-ieee-org.uprm.idm.oclc.org/abstract/document/8701341 (accessed Feb. 22, 2024).\n",
    "\n"
   ]
  },
  {
   "cell_type": "markdown",
   "metadata": {},
   "source": [
    "## Codigo"
   ]
  },
  {
   "cell_type": "markdown",
   "metadata": {},
   "source": [
    "Imported Libraries"
   ]
  },
  {
   "cell_type": "code",
   "execution_count": 14,
   "metadata": {},
   "outputs": [],
   "source": [
    "# Time \n",
    "import time\n",
    "\n",
    "# Numpy\n",
    "import numpy as np\n",
    "\n",
    "# Graphs & Plots\n",
    "import matplotlib.pyplot as plt"
   ]
  },
  {
   "cell_type": "markdown",
   "metadata": {},
   "source": [
    "Data Generator & Array Constructor (Native Python)"
   ]
  },
  {
   "cell_type": "code",
   "execution_count": 3,
   "metadata": {},
   "outputs": [],
   "source": [
    "def data_generator(rows, columns):\n",
    "    start = 0\n",
    "    step = 1\n",
    "    total_elements = rows * columns\n",
    "    \n",
    "    data = [start + i * step for i in range(total_elements)]\n",
    "    \n",
    "    return data"
   ]
  },
  {
   "cell_type": "code",
   "execution_count": 4,
   "metadata": {},
   "outputs": [],
   "source": [
    "def array_constructor(rows, columns):\n",
    "    data = data_generator(rows, columns)\n",
    "    default_value=0\n",
    "    result = []\n",
    "    \n",
    "    if rows == 1:  # 1D Array\n",
    "        result.append(data)\n",
    "        if default_value is not None:\n",
    "            result[0] += [default_value] * (columns - len(result[0]))\n",
    "            \n",
    "    else: # 2D Array\n",
    "        for i in range(rows):\n",
    "            row = data[i * columns: (i + 1) * columns]\n",
    "            if len(row) < columns:\n",
    "                if default_value is not None:\n",
    "                    row += [default_value] * (columns - len(row))\n",
    "            result.append(row)\n",
    "    \n",
    "    return result"
   ]
  },
  {
   "cell_type": "markdown",
   "metadata": {},
   "source": [
    "Array Product Function"
   ]
  },
  {
   "cell_type": "code",
   "execution_count": 5,
   "metadata": {},
   "outputs": [],
   "source": [
    "def prod_of_arrays(array_1d, array_2d):\n",
    "    result = []\n",
    "    \n",
    "    for i in range(len(array_2d)):\n",
    "        result.append(0)\n",
    "    \n",
    "    for i in range(len(array_2d)):\n",
    "        for j in range(len(array_2d[i])):\n",
    "            result[i] += array_1d[j] * array_2d[i][j]\n",
    "    return result"
   ]
  },
  {
   "cell_type": "markdown",
   "metadata": {},
   "source": [
    "Array Size < 10"
   ]
  },
  {
   "cell_type": "code",
   "execution_count": 6,
   "metadata": {},
   "outputs": [
    {
     "name": "stdout",
     "output_type": "stream",
     "text": [
      "Execution time for 1A: 0.0 seconds\n"
     ]
    }
   ],
   "source": [
    "'''Test Case Scenario 1A'''\n",
    "\n",
    "# Defining array dimensions\n",
    "# 1D\n",
    "rows_1 = 1\n",
    "columns_1 = 7\n",
    "# 2D\n",
    "rows_2 = 7\n",
    "columns_2 = 5\n",
    "\n",
    "# Function calls\n",
    "array_1d = array_constructor(rows_1, columns_1)\n",
    "array_1d = array_1d[0] if rows_1 == 1 else array_1d\n",
    "\n",
    "array_2d = array_constructor(rows_2, columns_2)\n",
    "\n",
    "# Execution\n",
    "start_time = time.time()\n",
    "result = prod_of_arrays(array_1d, array_2d)\n",
    "end_time = time.time()\n",
    "\n",
    "# Results\n",
    "execution_time_1a = end_time - start_time\n",
    "print(f\"Execution time for 1A: {execution_time_1a} seconds\")\n",
    "\n",
    "# Debugging\n",
    "#print(array_1d)\n",
    "#print(array_2d)"
   ]
  },
  {
   "cell_type": "code",
   "execution_count": 7,
   "metadata": {},
   "outputs": [
    {
     "name": "stdout",
     "output_type": "stream",
     "text": [
      "Execution time for 1B: 0.0 seconds\n"
     ]
    }
   ],
   "source": [
    "'''Test Case Scenario 1B'''\n",
    "\n",
    "# Defining array dimensions\n",
    "# 1D\n",
    "rows_1 = 1\n",
    "columns_1 = 5\n",
    "# 2D\n",
    "rows_2 = 5\n",
    "columns_2 = 5\n",
    "\n",
    "# Function Calls\n",
    "array_1d = array_constructor(rows_1, columns_1)\n",
    "array_1d = array_1d[0] if rows_1 == 1 else array_1d\n",
    "\n",
    "array_2d = array_constructor(rows_2, columns_2)\n",
    "\n",
    "# Execution\n",
    "start_time = time.time()\n",
    "result = prod_of_arrays(array_1d, array_2d)\n",
    "end_time = time.time()\n",
    "\n",
    "# Results\n",
    "execution_time_1b = end_time - start_time\n",
    "print(f\"Execution time for 1B: {execution_time_1b} seconds\")\n",
    "\n",
    "# Debugging\n",
    "#print(array_1d)\n",
    "#print(array_2d)"
   ]
  },
  {
   "cell_type": "code",
   "execution_count": 8,
   "metadata": {},
   "outputs": [
    {
     "name": "stdout",
     "output_type": "stream",
     "text": [
      "Execution time for 1C: 0.0 seconds\n"
     ]
    }
   ],
   "source": [
    "'''Test Case Scenario 1C'''\n",
    "\n",
    "# Defining array dimensions\n",
    "# 1D\n",
    "rows_1 = 1\n",
    "columns_1 = 9\n",
    "# 2D\n",
    "rows_2 = 9\n",
    "columns_2 = 7\n",
    "\n",
    "# Function Calls\n",
    "array_1d = array_constructor(rows_1, columns_1)\n",
    "array_1d = array_1d[0] if rows_1 == 1 else array_1d\n",
    "\n",
    "array_2d = array_constructor(rows_2, columns_2)\n",
    "\n",
    "# Execution\n",
    "start_time = time.time()\n",
    "result = prod_of_arrays(array_1d, array_2d)\n",
    "end_time = time.time()\n",
    "\n",
    "# Results\n",
    "execution_time_1c = end_time - start_time\n",
    "print(f\"Execution time for 1C: {execution_time_1c} seconds\")\n",
    "\n",
    "# Debugging\n",
    "#print(array_1d)\n",
    "#print(array_2d)"
   ]
  },
  {
   "cell_type": "markdown",
   "metadata": {},
   "source": [
    "10 < Array Size < 100"
   ]
  },
  {
   "cell_type": "code",
   "execution_count": 9,
   "metadata": {},
   "outputs": [
    {
     "name": "stdout",
     "output_type": "stream",
     "text": [
      "Execution time for 2A: 0.0 seconds\n"
     ]
    }
   ],
   "source": [
    "'''Test Case Scenario 2A'''\n",
    "\n",
    "# Defining array dimensions\n",
    "# 1D\n",
    "rows_1 = 1\n",
    "columns_1 = 20\n",
    "# 2D\n",
    "rows_2 = 20\n",
    "columns_2 = 15\n",
    "\n",
    "# Function Calls\n",
    "array_1d = array_constructor(rows_1, columns_1)\n",
    "array_1d = array_1d[0] if rows_1 == 1 else array_1d\n",
    "\n",
    "array_2d = array_constructor(rows_2, columns_2)\n",
    "\n",
    "# Execution\n",
    "start_time = time.time()\n",
    "result = prod_of_arrays(array_1d, array_2d)\n",
    "end_time = time.time()\n",
    "\n",
    "# Results\n",
    "execution_time_2a = end_time - start_time\n",
    "print(f\"Execution time for 2A: {execution_time_2a} seconds\")\n",
    "\n",
    "# Debugging\n",
    "#print(array_1d)\n",
    "#print(array_2d)"
   ]
  },
  {
   "cell_type": "code",
   "execution_count": 10,
   "metadata": {},
   "outputs": [
    {
     "name": "stdout",
     "output_type": "stream",
     "text": [
      "Execution time for 2B: 0.0 seconds\n"
     ]
    }
   ],
   "source": [
    "'''Test Case Scenario 2B'''\n",
    "\n",
    "# Defining array dimensions\n",
    "# 1D\n",
    "rows_1 = 1\n",
    "columns_1 = 40\n",
    "# 2D\n",
    "rows_2 = 40\n",
    "columns_2 = 15\n",
    "\n",
    "# Function Calls\n",
    "array_1d = array_constructor(rows_1, columns_1)\n",
    "array_1d = array_1d[0] if rows_1 == 1 else array_1d\n",
    "\n",
    "array_2d = array_constructor(rows_2, columns_2)\n",
    "\n",
    "# Execution\n",
    "start_time = time.time()\n",
    "result = prod_of_arrays(array_1d, array_2d)\n",
    "end_time = time.time()\n",
    "\n",
    "# Results\n",
    "execution_time_2b = end_time - start_time\n",
    "print(f\"Execution time for 2B: {execution_time_2b} seconds\")\n",
    "\n",
    "# Debugging\n",
    "#print(array_1d)\n",
    "#print(array_2d)"
   ]
  },
  {
   "cell_type": "code",
   "execution_count": 11,
   "metadata": {},
   "outputs": [
    {
     "name": "stdout",
     "output_type": "stream",
     "text": [
      "Execution time for 2C: 0.0009894371032714844 seconds\n"
     ]
    }
   ],
   "source": [
    "'''Test Case Scenario 2C'''\n",
    "\n",
    "# Defining array dimensions\n",
    "# 1D\n",
    "rows_1 = 1\n",
    "columns_1 = 95\n",
    "# 2D\n",
    "rows_2 = 95\n",
    "columns_2 = 15\n",
    "\n",
    "# Function Calls\n",
    "array_1d = array_constructor(rows_1, columns_1)\n",
    "array_1d = array_1d[0] if rows_1 == 1 else array_1d\n",
    "\n",
    "array_2d = array_constructor(rows_2, columns_2)\n",
    "\n",
    "# Execution\n",
    "start_time = time.time()\n",
    "result = prod_of_arrays(array_1d, array_2d)\n",
    "end_time = time.time()\n",
    "\n",
    "# Results\n",
    "execution_time_2c = end_time - start_time\n",
    "print(f\"Execution time for 2C: {execution_time_2c} seconds\")\n",
    "\n",
    "# Debugging\n",
    "#print(array_1d)\n",
    "#print(array_2d)"
   ]
  },
  {
   "cell_type": "markdown",
   "metadata": {},
   "source": [
    "Array Size > 100"
   ]
  },
  {
   "cell_type": "code",
   "execution_count": 12,
   "metadata": {},
   "outputs": [
    {
     "name": "stdout",
     "output_type": "stream",
     "text": [
      "Execution time for 3A: 0.0021886825561523438 seconds\n"
     ]
    }
   ],
   "source": [
    "'''Test Case Scenario 3A'''\n",
    "\n",
    "# Defining array dimensions\n",
    "# 1D\n",
    "rows_1 = 1\n",
    "columns_1 = 120\n",
    "# 2D\n",
    "rows_2 = 120\n",
    "columns_2 = 90\n",
    "\n",
    "# Function Calls\n",
    "array_1d = array_constructor(rows_1, columns_1)\n",
    "array_1d = array_1d[0] if rows_1 == 1 else array_1d\n",
    "\n",
    "array_2d = array_constructor(rows_2, columns_2)\n",
    "\n",
    "# Execution\n",
    "start_time = time.time()\n",
    "result = prod_of_arrays(array_1d, array_2d)\n",
    "end_time = time.time()\n",
    "\n",
    "# Results\n",
    "execution_time_3a = end_time - start_time\n",
    "print(f\"Execution time for 3A: {execution_time_3a} seconds\")\n",
    "\n",
    "# Debugging\n",
    "#print(array_1d)\n",
    "#print(array_2d)"
   ]
  },
  {
   "cell_type": "code",
   "execution_count": 13,
   "metadata": {},
   "outputs": [
    {
     "name": "stdout",
     "output_type": "stream",
     "text": [
      "Execution time for 3B: 0.0020759105682373047 seconds\n"
     ]
    }
   ],
   "source": [
    "'''Test Case Scenario 3B'''\n",
    "\n",
    "# Defining array dimensions\n",
    "# 1D\n",
    "rows_1 = 1\n",
    "columns_1 = 200\n",
    "# 2D\n",
    "rows_2 = 200\n",
    "columns_2 = 90\n",
    "\n",
    "# Function Calls\n",
    "array_1d = array_constructor(rows_1, columns_1)\n",
    "array_1d = array_1d[0] if rows_1 == 1 else array_1d\n",
    "\n",
    "array_2d = array_constructor(rows_2, columns_2)\n",
    "\n",
    "# Execution\n",
    "start_time = time.time()\n",
    "result = prod_of_arrays(array_1d, array_2d)\n",
    "end_time = time.time()\n",
    "\n",
    "# Results\n",
    "execution_time_3b = end_time - start_time\n",
    "print(f\"Execution time for 3B: {execution_time_3b} seconds\")\n",
    "\n",
    "# Debugging\n",
    "#print(array_1d)\n",
    "#print(array_2d)"
   ]
  },
  {
   "cell_type": "code",
   "execution_count": 15,
   "metadata": {},
   "outputs": [
    {
     "name": "stdout",
     "output_type": "stream",
     "text": [
      "Execution time for 3C: 0.006240129470825195 seconds\n"
     ]
    }
   ],
   "source": [
    "'''Test Case Scenario 3C'''\n",
    "\n",
    "# Defining array dimensions\n",
    "# 1D\n",
    "rows_1 = 1\n",
    "columns_1 = 500\n",
    "# 2D\n",
    "rows_2 = 500\n",
    "columns_2 = 90\n",
    "\n",
    "# Function Calls\n",
    "array_1d = array_constructor(rows_1, columns_1)\n",
    "array_1d = array_1d[0] if rows_1 == 1 else array_1d\n",
    "\n",
    "array_2d = array_constructor(rows_2, columns_2)\n",
    "\n",
    "# Execution\n",
    "start_time = time.time()\n",
    "result = prod_of_arrays(array_1d, array_2d)\n",
    "end_time = time.time()\n",
    "\n",
    "# Results\n",
    "execution_time_3c = end_time - start_time\n",
    "print(f\"Execution time for 3C: {execution_time_3c} seconds\")\n",
    "\n",
    "# Debugging\n",
    "#print(array_1d)\n",
    "#print(array_2d)"
   ]
  },
  {
   "cell_type": "markdown",
   "metadata": {},
   "source": [
    "Array Size = 100,000"
   ]
  },
  {
   "cell_type": "code",
   "execution_count": 16,
   "metadata": {},
   "outputs": [
    {
     "name": "stdout",
     "output_type": "stream",
     "text": [
      "Execution time for E: 1.0838816165924072 seconds\n"
     ]
    }
   ],
   "source": [
    "'''Extreme Test Case Scenario A'''\n",
    "\n",
    "# Defining array dimensions\n",
    "# 1D\n",
    "rows_1 = 1\n",
    "columns_1 = 100000\n",
    "# 2D\n",
    "rows_2 = 100000\n",
    "columns_2 = 90\n",
    "\n",
    "# Function Calls\n",
    "array_1d = array_constructor(rows_1, columns_1)\n",
    "array_1d = array_1d[0] if rows_1 == 1 else array_1d\n",
    "\n",
    "array_2d = array_constructor(rows_2, columns_2)\n",
    "\n",
    "# Execution\n",
    "start_time = time.time()\n",
    "result = prod_of_arrays(array_1d, array_2d)\n",
    "end_time = time.time()\n",
    "\n",
    "# Results\n",
    "execution_time_Ea = end_time - start_time\n",
    "print(f\"Execution time for E: {execution_time_Ea} seconds\")\n",
    "\n",
    "# Debugging\n",
    "#print(array_1d)\n",
    "#print(array_2d)"
   ]
  },
  {
   "cell_type": "markdown",
   "metadata": {},
   "source": [
    "Array Size = 3,000,000"
   ]
  },
  {
   "cell_type": "code",
   "execution_count": 17,
   "metadata": {},
   "outputs": [
    {
     "name": "stdout",
     "output_type": "stream",
     "text": [
      "Execution time for E: 46.13365864753723 seconds\n"
     ]
    }
   ],
   "source": [
    "'''Extreme Test Case Scenario B'''\n",
    "\n",
    "# Defining array dimensions\n",
    "# 1D\n",
    "rows_1 = 1\n",
    "columns_1 = 3000000\n",
    "# 2D\n",
    "rows_2 = 3000000\n",
    "columns_2 = 90\n",
    "\n",
    "# Function Calls\n",
    "array_1d = array_constructor(rows_1, columns_1)\n",
    "array_1d = array_1d[0] if rows_1 == 1 else array_1d\n",
    "\n",
    "array_2d = array_constructor(rows_2, columns_2)\n",
    "\n",
    "# Execution\n",
    "start_time = time.time()\n",
    "result = prod_of_arrays(array_1d, array_2d)\n",
    "end_time = time.time()\n",
    "\n",
    "# Results\n",
    "execution_time_Eb = end_time - start_time\n",
    "print(f\"Execution time for E: {execution_time_Eb} seconds\")\n",
    "\n",
    "# Debugging\n",
    "#print(array_1d)\n",
    "#print(array_2d)"
   ]
  },
  {
   "cell_type": "markdown",
   "metadata": {},
   "source": [
    "## Graficas"
   ]
  },
  {
   "cell_type": "markdown",
   "metadata": {},
   "source": [
    "### Sin NumPy"
   ]
  },
  {
   "cell_type": "code",
   "execution_count": 23,
   "metadata": {},
   "outputs": [
    {
     "data": {
      "image/png": "[encoded data removed]",
      "text/plain": [
       "<Figure size 640x480 with 1 Axes>"
      ]
     },
     "metadata": {},
     "output_type": "display_data"
    }
   ],
   "source": [
    "average_execution_time1 = (execution_time_1a + execution_time_1b + execution_time_1c) / 3\n",
    "average_execution_time2 = (execution_time_2a + execution_time_2b + execution_time_2c) / 3\n",
    "average_execution_time3 = (execution_time_3a + execution_time_3b + execution_time_3c) / 3\n",
    "execution_timeEa = (execution_time_Ea)\n",
    "execution_timeEb = (execution_time_Eb)\n",
    "\n",
    "average_execution_times = [average_execution_time1, average_execution_time2, average_execution_time3,execution_timeEa,execution_timeEb]\n",
    "labels = ['x < 10','10 < x < 100','100 < x','x = 100,000','x = 3,000,000']\n",
    "\n",
    "plt.plot(labels, average_execution_times)\n",
    "\n",
    "plt.xlabel('Array Size (x)')\n",
    "plt.ylabel('Execution Time (s)')\n",
    "plt.title('Average Execution Time for Test Cases')\n",
    "plt.grid(True)\n",
    "\n",
    "plt.show()"
   ]
  },
  {
   "cell_type": "markdown",
   "metadata": {},
   "source": [
    "### NumPy"
   ]
  },
  {
   "cell_type": "markdown",
   "metadata": {},
   "source": [
    "Data Generator and Array Constructor"
   ]
  },
  {
   "cell_type": "code",
   "execution_count": 24,
   "metadata": {},
   "outputs": [
    {
     "data": {
      "text/plain": [
       "' reshape(rows, columns) Takes in a given data set and shapes it into an array of the specified rows & columns. '"
      ]
     },
     "execution_count": 24,
     "metadata": {},
     "output_type": "execute_result"
    }
   ],
   "source": [
    "my_30x5_array = np.arange(0, 150).reshape((6, 25))\n",
    "''' arange(x0, x1) This value represents the total of slots/spaces to fill inside the array, in other words its the product between rows and columns. '''\n",
    "''' reshape(rows, columns) Takes in a given data set and shapes it into an array of the specified rows & columns. '''\n",
    "\n",
    "# Debugging\n",
    "#formatted_array = np.array2string(my_30x5_array, separator=\",\")\n",
    "#print(formatted_array)"
   ]
  },
  {
   "cell_type": "markdown",
   "metadata": {},
   "source": [
    "Array Product Function"
   ]
  },
  {
   "cell_type": "code",
   "execution_count": 25,
   "metadata": {},
   "outputs": [],
   "source": [
    "def prod_of_arrays_b(array1, array2):\n",
    "    result = np.matmul(array1, array2)\n",
    "    return result"
   ]
  },
  {
   "cell_type": "markdown",
   "metadata": {},
   "source": [
    "Array Size < 10"
   ]
  },
  {
   "cell_type": "code",
   "execution_count": 26,
   "metadata": {},
   "outputs": [
    {
     "name": "stdout",
     "output_type": "stream",
     "text": [
      "Execution time: 0.0 seconds\n"
     ]
    }
   ],
   "source": [
    "'''Test Case 1AN'''\n",
    "\n",
    "# Defining Arrays\n",
    "# 1D\n",
    "array_1d = np.arange(1, 8).reshape((1, 7))\n",
    "# 2D\n",
    "array_2d = np.arange(1, 36).reshape((7, 5))\n",
    "\n",
    "# Execution\n",
    "start_time = time.time()\n",
    "result_array = prod_of_arrays_b(array_1d, array_2d)\n",
    "end_time = time.time()\n",
    "\n",
    "# Results\n",
    "execution_time_1an = end_time - start_time\n",
    "print(f\"Execution time: {execution_time_1an} seconds\")\n",
    "\n",
    "# Debugging\n",
    "#print(array_1d)\n",
    "#print(array_2d)"
   ]
  },
  {
   "cell_type": "code",
   "execution_count": 27,
   "metadata": {},
   "outputs": [
    {
     "name": "stdout",
     "output_type": "stream",
     "text": [
      "Execution time: 0.0010190010070800781 seconds\n"
     ]
    }
   ],
   "source": [
    "'''Test Case 1BN'''\n",
    "\n",
    "# Defining Arrays\n",
    "# 1D\n",
    "array_1d = np.arange(1, 6).reshape((1, 5))\n",
    "# 2D\n",
    "array_2d = np.arange(1, 26).reshape((5, 5))\n",
    "\n",
    "# Execution\n",
    "start_time = time.time()\n",
    "result_array = prod_of_arrays_b(array_1d, array_2d)\n",
    "end_time = time.time()\n",
    "\n",
    "# Results\n",
    "execution_time_1bn = end_time - start_time\n",
    "print(f\"Execution time: {execution_time_1bn} seconds\")\n",
    "\n",
    "# Debugging\n",
    "#print(array_1d)\n",
    "#print(array_2d)"
   ]
  },
  {
   "cell_type": "code",
   "execution_count": 28,
   "metadata": {},
   "outputs": [
    {
     "name": "stdout",
     "output_type": "stream",
     "text": [
      "Execution time: 0.0 seconds\n"
     ]
    }
   ],
   "source": [
    "'''Test Case 1CN'''\n",
    "\n",
    "# Defining Arrays\n",
    "# 1D\n",
    "array_1d = np.arange(1, 10).reshape((1, 9))\n",
    "# 2D\n",
    "array_2d = np.arange(1, 64).reshape((9, 7))\n",
    "\n",
    "# Execution\n",
    "start_time = time.time()\n",
    "result_array = prod_of_arrays_b(array_1d, array_2d)\n",
    "end_time = time.time()\n",
    "\n",
    "# Results\n",
    "execution_time_1cn = end_time - start_time\n",
    "print(f\"Execution time: {execution_time_1cn} seconds\")\n",
    "\n",
    "# Debugging\n",
    "#print(array_1d)\n",
    "#print(array_2d)"
   ]
  },
  {
   "cell_type": "markdown",
   "metadata": {},
   "source": [
    "10 < Array Size < 100 "
   ]
  },
  {
   "cell_type": "code",
   "execution_count": 29,
   "metadata": {},
   "outputs": [
    {
     "name": "stdout",
     "output_type": "stream",
     "text": [
      "Execution time: 0.0 seconds\n"
     ]
    }
   ],
   "source": [
    "'''Test Case 2AN'''\n",
    "\n",
    "# Defining Arrays\n",
    "# 1D\n",
    "array_1d = np.arange(1, 21).reshape((1, 20))\n",
    "# 2D\n",
    "array_2d = np.arange(1, 301).reshape((20, 15))\n",
    "\n",
    "# Execution\n",
    "start_time = time.time()\n",
    "result_array = prod_of_arrays_b(array_1d, array_2d)\n",
    "end_time = time.time()\n",
    "\n",
    "# Results\n",
    "execution_time_2an = end_time - start_time\n",
    "print(f\"Execution time: {execution_time_2an} seconds\")\n",
    "\n",
    "# Debugging\n",
    "#print(array_1d)\n",
    "#print(array_2d)"
   ]
  },
  {
   "cell_type": "code",
   "execution_count": 30,
   "metadata": {},
   "outputs": [
    {
     "name": "stdout",
     "output_type": "stream",
     "text": [
      "Execution time: 0.0 seconds\n"
     ]
    }
   ],
   "source": [
    "'''Test Case 2BN'''\n",
    "\n",
    "# Defining Arrays\n",
    "# 1D\n",
    "array_1d = np.arange(1, 41).reshape((1, 40))\n",
    "# 2D\n",
    "array_2d = np.arange(1, 601).reshape((40, 15))\n",
    "\n",
    "# Execution\n",
    "start_time = time.time()\n",
    "result_array = prod_of_arrays_b(array_1d, array_2d)\n",
    "end_time = time.time()\n",
    "\n",
    "# Results\n",
    "execution_time_2bn = end_time - start_time\n",
    "print(f\"Execution time: {execution_time_2bn} seconds\")\n",
    "\n",
    "# Debugging\n",
    "#print(array_1d)\n",
    "#print(array_2d)"
   ]
  },
  {
   "cell_type": "code",
   "execution_count": 31,
   "metadata": {},
   "outputs": [
    {
     "name": "stdout",
     "output_type": "stream",
     "text": [
      "Execution time: 0.0 seconds\n"
     ]
    }
   ],
   "source": [
    "'''Test Case 2CN'''\n",
    "\n",
    "# Defining Arrays\n",
    "# 1D\n",
    "array_1d = np.arange(1, 96).reshape((1, 95))\n",
    "# 2D\n",
    "array_2d = np.arange(1, 1426).reshape((95, 15))\n",
    "\n",
    "# Execution\n",
    "start_time = time.time()\n",
    "result_array = prod_of_arrays_b(array_1d, array_2d)\n",
    "end_time = time.time()\n",
    "\n",
    "# Results\n",
    "execution_time_2cn = end_time - start_time\n",
    "print(f\"Execution time: {execution_time_2cn} seconds\")\n",
    "\n",
    "# Debugging\n",
    "#print(array_1d)\n",
    "#print(array_2d)"
   ]
  },
  {
   "cell_type": "markdown",
   "metadata": {},
   "source": [
    "100 < Array Size "
   ]
  },
  {
   "cell_type": "code",
   "execution_count": 32,
   "metadata": {},
   "outputs": [
    {
     "name": "stdout",
     "output_type": "stream",
     "text": [
      "Execution time: 0.0 seconds\n"
     ]
    }
   ],
   "source": [
    "'''Test Case 3AN'''\n",
    "\n",
    "# Defining Arrays\n",
    "# 1D\n",
    "array_1d = np.arange(1, 121).reshape((1, 120))\n",
    "# 2D\n",
    "array_2d = np.arange(1, 10801).reshape((120, 90))\n",
    "\n",
    "# Execution\n",
    "start_time = time.time()\n",
    "result_array = prod_of_arrays_b(array_1d, array_2d)\n",
    "end_time = time.time()\n",
    "\n",
    "# Results\n",
    "execution_time_3an = end_time - start_time\n",
    "print(f\"Execution time: {execution_time_3an} seconds\")\n",
    "\n",
    "# Debugging\n",
    "#print(array_1d)\n",
    "#print(array_2d)"
   ]
  },
  {
   "cell_type": "code",
   "execution_count": 33,
   "metadata": {},
   "outputs": [
    {
     "name": "stdout",
     "output_type": "stream",
     "text": [
      "Execution time: 0.00019550323486328125 seconds\n"
     ]
    }
   ],
   "source": [
    "'''Test Case 3BN'''\n",
    "\n",
    "# Defining Arrays\n",
    "# 1D\n",
    "array_1d = np.arange(1, 201).reshape((1, 200))\n",
    "# 2D\n",
    "array_2d = np.arange(1, 18001).reshape((200, 90))\n",
    "\n",
    "# Execution\n",
    "start_time = time.time()\n",
    "result_array = prod_of_arrays_b(array_1d, array_2d)\n",
    "end_time = time.time()\n",
    "\n",
    "# Results\n",
    "execution_time_3bn = end_time - start_time\n",
    "print(f\"Execution time: {execution_time_3bn} seconds\")\n",
    "\n",
    "# Debugging\n",
    "#print(array_1d)\n",
    "#print(array_2d)"
   ]
  },
  {
   "cell_type": "code",
   "execution_count": 34,
   "metadata": {},
   "outputs": [
    {
     "name": "stdout",
     "output_type": "stream",
     "text": [
      "Execution time: 0.0 seconds\n"
     ]
    }
   ],
   "source": [
    "'''Test Case 3CN'''\n",
    "\n",
    "# Defining Arrays\n",
    "# 1D\n",
    "array_1d = np.arange(1, 501).reshape((1, 500))\n",
    "# 2D\n",
    "array_2d = np.arange(1, 45001).reshape((500, 90))\n",
    "\n",
    "# Execution\n",
    "start_time = time.time()\n",
    "result_array = prod_of_arrays_b(array_1d, array_2d)\n",
    "end_time = time.time()\n",
    "\n",
    "# Results\n",
    "execution_time_3cn = end_time - start_time\n",
    "print(f\"Execution time: {execution_time_3cn} seconds\")\n",
    "\n",
    "# Debugging\n",
    "#print(array_1d)\n",
    "#print(array_2d)"
   ]
  },
  {
   "cell_type": "markdown",
   "metadata": {},
   "source": [
    "Array Size = 100,000"
   ]
  },
  {
   "cell_type": "code",
   "execution_count": 35,
   "metadata": {},
   "outputs": [
    {
     "name": "stdout",
     "output_type": "stream",
     "text": [
      "Execution time: 0.08921360969543457 seconds\n"
     ]
    }
   ],
   "source": [
    "'''Extreme Test Case Scenario An'''\n",
    "\n",
    "# Defining Arrays\n",
    "# 1D\n",
    "array_1d = np.arange(1, 100001).reshape((1, 100000))\n",
    "# 2D\n",
    "array_2d = np.arange(1, 9000001).reshape((100000, 90))\n",
    "\n",
    "# Execution\n",
    "start_time = time.time()\n",
    "result_array = prod_of_arrays_b(array_1d, array_2d)\n",
    "end_time = time.time()\n",
    "\n",
    "# Results\n",
    "execution_time_Ean = end_time - start_time\n",
    "print(f\"Execution time: {execution_time_Ean} seconds\")\n",
    "\n",
    "# Debugging\n",
    "#print(array_1d)\n",
    "#print(array_2d)"
   ]
  },
  {
   "cell_type": "markdown",
   "metadata": {},
   "source": [
    "Array Size = 3,000,000"
   ]
  },
  {
   "cell_type": "code",
   "execution_count": 36,
   "metadata": {},
   "outputs": [
    {
     "name": "stdout",
     "output_type": "stream",
     "text": [
      "Execution time: 2.6852142810821533 seconds\n"
     ]
    }
   ],
   "source": [
    "'''Extreme Test Case Scenario Bn'''\n",
    "\n",
    "# Defining Arrays\n",
    "# 1D\n",
    "array_1d = np.arange(1, 3000001).reshape((1, 3000000))\n",
    "# 2D\n",
    "array_2d = np.arange(1, 270000001).reshape((3000000, 90))\n",
    "\n",
    "# Execution\n",
    "start_time = time.time()\n",
    "result_array = prod_of_arrays_b(array_1d, array_2d)\n",
    "end_time = time.time()\n",
    "\n",
    "# Results\n",
    "execution_time_Ebn = end_time - start_time\n",
    "print(f\"Execution time: {execution_time_Ebn} seconds\")\n",
    "\n",
    "# Debugging\n",
    "#print(array_1d)\n",
    "#print(array_2d)"
   ]
  },
  {
   "cell_type": "markdown",
   "metadata": {},
   "source": [
    "### Grafica con NumPy"
   ]
  },
  {
   "cell_type": "code",
   "execution_count": 38,
   "metadata": {},
   "outputs": [
    {
     "data": {
      "image/png": "[encoded data removed]",
      "text/plain": [
       "<Figure size 640x480 with 1 Axes>"
      ]
     },
     "metadata": {},
     "output_type": "display_data"
    }
   ],
   "source": [
    "average_execution_time1n = (execution_time_1an + execution_time_1bn + execution_time_1cn) / 3\n",
    "average_execution_time2n = (execution_time_2an + execution_time_2bn + execution_time_2cn) / 3\n",
    "average_execution_time3n = (execution_time_3an + execution_time_3bn + execution_time_3cn) / 3\n",
    "\n",
    "execution_time_Ea = (execution_time_Ean)\n",
    "execution_time_Eb = (execution_time_Ebn)\n",
    "\n",
    "average_execution_times_numpy = [average_execution_time1n, average_execution_time2n, average_execution_time3n, execution_time_Ea, execution_time_Eb]\n",
    "\n",
    "labels = ['x < 10', '10 < x < 100', 'x > 100', 'x = 100,000', 'x = 3,000,000']\n",
    "\n",
    "plt.plot(labels, average_execution_times_numpy)\n",
    "\n",
    "plt.xlabel('Array Size (x)')\n",
    "plt.ylabel('Execution Time (s)')\n",
    "plt.title('Average Execution Time for Test Cases')\n",
    "plt.grid(True)\n",
    "\n",
    "plt.show()"
   ]
  }
 ],
 "metadata": {
  "kernelspec": {
   "display_name": ".venv",
   "language": "python",
   "name": "python3"
  },
  "language_info": {
   "codemirror_mode": {
    "name": "ipython",
    "version": 3
   },
   "file_extension": ".py",
   "mimetype": "text/x-python",
   "name": "python",
   "nbconvert_exporter": "python",
   "pygments_lexer": "ipython3",
   "version": "3.12.0"
  }
 },
 "nbformat": 4,
 "nbformat_minor": 2
}
