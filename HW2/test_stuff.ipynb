{
 "cells": [
  {
   "cell_type": "markdown",
   "metadata": {},
   "source": [
    "Map Generator"
   ]
  },
  {
   "cell_type": "code",
   "execution_count": 2,
   "metadata": {},
   "outputs": [],
   "source": [
    "from src.vacuum_environment import *"
   ]
  },
  {
   "cell_type": "code",
   "execution_count": 8,
   "metadata": {},
   "outputs": [
    {
     "ename": "NameError",
     "evalue": "name 'Environment_2D' is not defined",
     "output_type": "error",
     "traceback": [
      "\u001b[1;31m---------------------------------------------------------------------------\u001b[0m",
      "\u001b[1;31mNameError\u001b[0m                                 Traceback (most recent call last)",
      "Cell \u001b[1;32mIn[8], line 5\u001b[0m\n\u001b[0;32m      2\u001b[0m width \u001b[38;5;241m=\u001b[39m \u001b[38;5;241m3\u001b[39m\n\u001b[0;32m      3\u001b[0m height \u001b[38;5;241m=\u001b[39m \u001b[38;5;241m3\u001b[39m\n\u001b[1;32m----> 5\u001b[0m test_environment \u001b[38;5;241m=\u001b[39m \u001b[43mEnvironment_2D\u001b[49m(width, height)\n\u001b[0;32m      7\u001b[0m \u001b[38;5;28mprint\u001b[39m(\u001b[38;5;124m\"\u001b[39m\u001b[38;5;124mInitial Environment:\u001b[39m\u001b[38;5;124m\"\u001b[39m)\n\u001b[0;32m      8\u001b[0m test_environment\u001b[38;5;241m.\u001b[39mprint_environment()\n",
      "\u001b[1;31mNameError\u001b[0m: name 'Environment_2D' is not defined"
     ]
    }
   ],
   "source": [
    "# Example usage with an Agent in the Environment:\n",
    "width = 3\n",
    "height = 3\n",
    "\n",
    "test_environment = Environment_2D(width, height)\n",
    "\n",
    "print(\"Initial Environment:\")\n",
    "test_environment.print_environment()\n",
    "\n",
    "#num_dirty_locations = 2\n",
    "#environment.dirty_locations(num_dirty_locations)\n",
    "#\n",
    "#obstacle = Thing('Obstacle')\n",
    "#agent = Agent(program=lambda percept: 'Clean' if percept == 'Dirt' else 'Move')\n",
    "#\n",
    "## Wrap the agent's program for tracing\n",
    "#agent = TraceAgent(agent)\n",
    "#\n",
    "#environment.add_thing(obstacle, 1, 1)\n",
    "#environment.add_thing(agent, 2, 2)\n",
    "#\n",
    "#print(\"\\nEnvironment after marking random locations as 'Dirty' and adding things:\")\n",
    "#environment.print_environment()\n",
    "#\n",
    "## Get the location of the agent\n",
    "#agent_location = environment.get_thing_location(agent)\n",
    "#print(f\"\\nThe location of the Agent is: {agent_location}\")\n"
   ]
  }
 ],
 "metadata": {
  "kernelspec": {
   "display_name": ".venv",
   "language": "python",
   "name": "python3"
  },
  "language_info": {
   "codemirror_mode": {
    "name": "ipython",
    "version": 3
   },
   "file_extension": ".py",
   "mimetype": "text/x-python",
   "name": "python",
   "nbconvert_exporter": "python",
   "pygments_lexer": "ipython3",
   "version": "3.12.0"
  }
 },
 "nbformat": 4,
 "nbformat_minor": 2
}
