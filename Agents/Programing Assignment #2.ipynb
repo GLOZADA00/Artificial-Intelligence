{
 "cells": [
  {
   "cell_type": "markdown",
   "metadata": {},
   "source": [
    "Imports"
   ]
  },
  {
   "cell_type": "code",
   "execution_count": 43,
   "metadata": {},
   "outputs": [],
   "source": [
    "from __future__ import annotations\n",
    "import random\n",
    "from src.notebook import psource"
   ]
  },
  {
   "cell_type": "markdown",
   "metadata": {},
   "source": [
    "General Implementations"
   ]
  },
  {
   "cell_type": "code",
   "execution_count": 39,
   "metadata": {},
   "outputs": [],
   "source": [
    "class VacuumEnvironment:\n",
    "    def __init__(self, width, height, dirt = None) -> None:\n",
    "        self.width = width\n",
    "        self.height = height\n",
    "        self.locations = []\n",
    "        self.dirt = []\n",
    "        self.genDirt()\n",
    "        self.genLocations()\n",
    "\n",
    "    #Generates a list of all valid locations within the environment\n",
    "    def genLocations(self):\n",
    "        for x in range(self.width):\n",
    "            for y in range(self.height):\n",
    "                self.locations.append((x,y))                 \n",
    "\n",
    "    #Generates a list of dirty locations inside the environment\n",
    "    def genDirt(self):\n",
    "        for x in range(self.width):\n",
    "            for y in range(self.height):\n",
    "                if random.randint(0,1) == 1:\n",
    "                    self.dirt.append((x,y))\n",
    "    \n",
    "    #Removes a location from the dirt list\n",
    "    def cleanLocation(self, agent: VacuumAgent, location):\n",
    "        if location in self.dirt:\n",
    "            self.dirt.remove(location)\n",
    "\n",
    "    #Checks the dirt/clean state of a given location\n",
    "    def isClean(self, location):\n",
    "        if location in self.dirt:\n",
    "            return False\n",
    "        else:\n",
    "            return True\n",
    "        \n",
    "class VacuumAgent:\n",
    "    def __init__(self, program = 'ReflexAgent', defaultLocation = (0, 0)) -> None:\n",
    "        self.bump = False\n",
    "        self.program = program\n",
    "        self.performance = 0\n",
    "        self.location = defaultLocation\n",
    "        #State only used for when programming is not reflex or random based\n",
    "        self.map = [] \n",
    "\n",
    "    #The sensors available to the agent are accessed through this function\n",
    "    def sense(self, env: VacuumEnvironment):\n",
    "        if env.isClean(self.location):\n",
    "            return 'Clean'\n",
    "        else:\n",
    "            return 'Dirty'\n",
    "\n",
    "    #All valid moves are sensed with a given step size, NOT in use for this agent    \n",
    "    def validMove(self, env: VacuumEnvironment, step = 1):\n",
    "        moveloc = []\n",
    "        for loc in env.locations:\n",
    "            x = loc[0]\n",
    "            y = loc[1]\n",
    "\n",
    "            if(y == self.location[1]):\n",
    "                if x == self.location[0] + step:\n",
    "                    moveloc.append(loc)\n",
    "                elif x == self.location[0] - step:\n",
    "                    moveloc.append(loc)\n",
    "                    \n",
    "            elif(x == self.location[0]):\n",
    "                if y == self.location[1] + step:\n",
    "                    moveloc.append(loc)\n",
    "                elif y == self.location[1] - step:\n",
    "                    moveloc.append(loc)\n",
    "\n",
    "        return moveloc\n",
    "    \n",
    "    #The actuators available to the agent are accessed through this function\n",
    "    def actuate(self, action, env: VacuumEnvironment,):\n",
    "        prevLoc = self.location\n",
    "\n",
    "        if action == 'Right':\n",
    "            self.location = (self.location[0] + 1, self.location[1])\n",
    "            self.performance -= 1\n",
    "        elif action == 'Left':\n",
    "            self.location = (self.location[0] - 1, self.location[1])\n",
    "            self.performance -= 1\n",
    "        elif action == 'Up':\n",
    "            self.location = (self.location[0], self.location[1] + 1)\n",
    "            self.performance -= 1\n",
    "        elif action == 'Down':\n",
    "            self.location = (self.location[0], self.location[1] - 1)\n",
    "            self.performance -= 1\n",
    "        elif action == 'Suck':\n",
    "            if env.isClean(self.location) == False:\n",
    "                self.performance += 10\n",
    "                env.cleanLocation(self, self.location)\n",
    "\n",
    "        if(self.location not in env.locations):\n",
    "            self.bump = True\n",
    "            self.location = prevLoc\n",
    "\n",
    "    #For the use of the state program of this agent. Adds a coordinate to the state list of invalid coordinates to remember not to use       \n",
    "    def bumpListAppend(self, action):\n",
    "        if action == 'Right':\n",
    "            self.map.append((self.location[0] + 1, self.location[1]))\n",
    "\n",
    "        elif action == 'Left':\n",
    "            self.map.append((self.location[0] - 1, self.location[1]))\n",
    "\n",
    "        elif action == 'Up':\n",
    "            self.map.append((self.location[0], self.location[1] + 1))\n",
    "\n",
    "        elif action == 'Down':\n",
    "            self.map.append((self.location[0], self.location[1] - 1))\n",
    "\n",
    "    #For the use of the state program of this agent. Checks if a given coordinate is in the bump list.\n",
    "    def checkBumpList(self, location):\n",
    "        if(location in self.map):\n",
    "            return True\n",
    "        else:\n",
    "            return False\n",
    "\n",
    "    #Given an action returns the resulting location of the agent\n",
    "    def actionToLocation(self, action) -> tuple:\n",
    "        if action == 'Right':\n",
    "            return (self.location[0] + 1, self.location[1])\n",
    "\n",
    "        elif action == 'Left':\n",
    "            return (self.location[0] - 1, self.location[1])\n",
    "\n",
    "        elif action == 'Up':\n",
    "            return (self.location[0], self.location[1] + 1)\n",
    "\n",
    "        elif action == 'Down':\n",
    "            return (self.location[0], self.location[1] - 1)\n",
    "\n",
    "    #Makes the agent take a step in the environment. Currently senses and takes an action.\n",
    "    def act(self, env: VacuumEnvironment) -> str:\n",
    "        if self.program == 'Reflex':\n",
    "\n",
    "            actions = ['Right','Left','Suck']\n",
    "            \n",
    "            #Cleaning\n",
    "            if self.sense(env) == 'Dirty':\n",
    "                self.actuate(actions[2], env)\n",
    "                return actions[2]\n",
    "\n",
    "            #Movement\n",
    "            elif self.sense(env) != 'Dirty': \n",
    "                if self.location in env.locations:\n",
    "                    self.actuate(actions[0], env)\n",
    "                    return actions[0]\n",
    "                \n",
    "        elif self.program == 'Reflex_2D':\n",
    "\n",
    "            actions = ['Right','Left','Up','Down','Suck']\n",
    "            \n",
    "            #Cleaning\n",
    "            if self.sense(env) == 'Dirty':\n",
    "                self.actuate(actions[4], env)\n",
    "                return actions[4]\n",
    "\n",
    "            #Movement\n",
    "            elif self.sense(env) != 'Dirty': \n",
    "                if self.location in env.locations:\n",
    "                    random_move = random.choice(actions[:-1])\n",
    "                    self.actuate(random_move, env)\n",
    "                    return random_move\n",
    "        \n",
    "            \n",
    "        elif self.program == 'Random':\n",
    "            #Sense current location\n",
    "            #If dirty clean\n",
    "            if self.sense(env) == 'Dirty':\n",
    "                self.actuate('Suck', env)\n",
    "                return 'Suck'\n",
    "\n",
    "            #Random Action to change location\n",
    "            else:\n",
    "                actions = ['Right','Left','Up','Down']\n",
    "                randomAction = random.choice(actions)\n",
    "                self.actuate(randomAction, env)\n",
    "                return randomAction\n",
    "    \n",
    "        elif self.program == 'State':\n",
    "            #Sense current location\n",
    "            #If dirty clean\n",
    "            if self.sense(env) == 'Dirty':\n",
    "                self.actuate('Suck', env)\n",
    "                return 'Suck'\n",
    "\n",
    "            #Random actions to change location\n",
    "            #Check if coordinate is stored in state\n",
    "            #If not, perform selected action\n",
    "            #If location did not change add coordinate as invalid to the state\n",
    "\n",
    "            validChoice  = False\n",
    "\n",
    "            while(validChoice == False):\n",
    "                actions = ['Right','Left','Up','Down']\n",
    "                randomAction = random.choice(actions)\n",
    "                if(self.checkBumpList(self.actionToLocation(randomAction)) == False):\n",
    "                    self.actuate(randomAction, env)\n",
    "                    validChoice = True\n",
    "\n",
    "            if(self.bump == True):\n",
    "                self.bumpListAppend(randomAction)\n",
    "                self.bump =  False\n",
    "            \n",
    "            return randomAction"
   ]
  },
  {
   "cell_type": "markdown",
   "metadata": {},
   "source": [
    "Testing Functionality"
   ]
  },
  {
   "cell_type": "markdown",
   "metadata": {},
   "source": [
    "Creating Environment"
   ]
  },
  {
   "cell_type": "code",
   "execution_count": 29,
   "metadata": {},
   "outputs": [
    {
     "name": "stdout",
     "output_type": "stream",
     "text": [
      "The environment has been successfully created\n",
      "\n",
      "Dirty locations: [(0, 0), (1, 0), (3, 0)]\n"
     ]
    }
   ],
   "source": [
    "width = 5\n",
    "height = 1\n",
    "test_environment = VacuumEnvironment(width, height)\n",
    "print(f'The environment has been successfully created')\n",
    "print()\n",
    "print(f'Dirty locations: {test_environment.dirt}')"
   ]
  },
  {
   "cell_type": "markdown",
   "metadata": {},
   "source": [
    "Introducing the Agent into the Test Environment"
   ]
  },
  {
   "cell_type": "code",
   "execution_count": 30,
   "metadata": {},
   "outputs": [
    {
     "name": "stdout",
     "output_type": "stream",
     "text": [
      "Remaining dirty locations: [(1, 0), (3, 0)]\n",
      "Remaining dirty locations: [(1, 0), (3, 0)]\n",
      "Remaining dirty locations: [(3, 0)]\n",
      "Remaining dirty locations: [(3, 0)]\n",
      "Remaining dirty locations: [(3, 0)]\n",
      "Remaining dirty locations: []\n",
      "Reflex Agent performance after 6 actions is: 27\n"
     ]
    }
   ],
   "source": [
    "#Number of actions made by the agent\n",
    "limit = 50\n",
    "actions = 0\n",
    "reflex_agent = VacuumAgent('Reflex')\n",
    "\n",
    "while(test_environment.dirt and actions < limit):\n",
    "    actions = actions + 1\n",
    "    reflex_agent.act(test_environment)\n",
    "    print(f'Remaining dirty locations: {test_environment.dirt}')\n",
    "\n",
    "\n",
    "print(f'Reflex Agent performance after {actions} actions is: {reflex_agent.performance}')\n"
   ]
  },
  {
   "cell_type": "markdown",
   "metadata": {},
   "source": [
    "Reflex Agent in an unknown environment with 2 dimensions (Width and Height)"
   ]
  },
  {
   "cell_type": "code",
   "execution_count": 41,
   "metadata": {},
   "outputs": [
    {
     "name": "stdout",
     "output_type": "stream",
     "text": [
      "The environment has been successfully created\n",
      "\n",
      "Dirty locations: [(0, 0), (1, 0), (1, 2), (2, 1), (2, 2)]\n"
     ]
    }
   ],
   "source": [
    "width = 3\n",
    "height = 3\n",
    "xy_environment = VacuumEnvironment(width, height)\n",
    "\n",
    "print(f'The environment has been successfully created')\n",
    "print()\n",
    "print(f'Dirty locations: {xy_environment.dirt}')"
   ]
  },
  {
   "cell_type": "markdown",
   "metadata": {},
   "source": [
    "Adding Reflex Agent"
   ]
  },
  {
   "cell_type": "code",
   "execution_count": 42,
   "metadata": {},
   "outputs": [
    {
     "name": "stdout",
     "output_type": "stream",
     "text": [
      "Remaining dirty locations: [(1, 0), (1, 2), (2, 1), (2, 2)]\n",
      "Remaining dirty locations: [(1, 0), (1, 2), (2, 1), (2, 2)]\n",
      "Remaining dirty locations: [(1, 0), (1, 2), (2, 1), (2, 2)]\n",
      "Remaining dirty locations: [(1, 0), (1, 2), (2, 1), (2, 2)]\n",
      "Remaining dirty locations: [(1, 2), (2, 1), (2, 2)]\n",
      "Remaining dirty locations: [(1, 2), (2, 1), (2, 2)]\n",
      "Remaining dirty locations: [(1, 2), (2, 1), (2, 2)]\n",
      "Remaining dirty locations: [(2, 1), (2, 2)]\n",
      "Remaining dirty locations: [(2, 1), (2, 2)]\n",
      "Remaining dirty locations: [(2, 1)]\n",
      "Remaining dirty locations: [(2, 1)]\n",
      "Remaining dirty locations: [(2, 1)]\n",
      "Remaining dirty locations: [(2, 1)]\n",
      "Remaining dirty locations: [(2, 1)]\n",
      "Remaining dirty locations: [(2, 1)]\n",
      "Remaining dirty locations: [(2, 1)]\n",
      "Remaining dirty locations: [(2, 1)]\n",
      "Remaining dirty locations: [(2, 1)]\n",
      "Remaining dirty locations: []\n",
      "Reflex Agent performance after 19 actions is: 36\n"
     ]
    }
   ],
   "source": [
    "limit = 50\n",
    "actions = 0\n",
    "reflex_agent_2d = VacuumAgent('Reflex_2D')\n",
    "\n",
    "while(xy_environment.dirt and actions < limit):\n",
    "    actions = actions + 1\n",
    "    reflex_agent_2d.act(xy_environment)\n",
    "    print(f'Remaining dirty locations: {xy_environment.dirt}')\n",
    "\n",
    "\n",
    "print(f'Reflex Agent performance after {actions} actions is: {reflex_agent_2d.performance}')"
   ]
  }
 ],
 "metadata": {
  "kernelspec": {
   "display_name": ".venv",
   "language": "python",
   "name": "python3"
  },
  "language_info": {
   "codemirror_mode": {
    "name": "ipython",
    "version": 3
   },
   "file_extension": ".py",
   "mimetype": "text/x-python",
   "name": "python",
   "nbconvert_exporter": "python",
   "pygments_lexer": "ipython3",
   "version": "3.12.0"
  }
 },
 "nbformat": 4,
 "nbformat_minor": 2
}
